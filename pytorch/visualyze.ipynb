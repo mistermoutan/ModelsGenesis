{
 "cells": [
  {
   "cell_type": "code",
   "execution_count": 10,
   "metadata": {},
   "outputs": [],
   "source": [
    "%matplotlib inline\n",
    "import os\n",
    "import matplotlib.pyplot as plt\n",
    "import matplotlib.cm as cm\n",
    "\n",
    "from medpy.io import load\n",
    "import nibabel as nib\n",
    "import SimpleITK as sitk\n",
    "\n",
    "import numpy as np\n",
    "from pympler import asizeof"
   ]
  },
  {
   "cell_type": "code",
   "execution_count": 11,
   "metadata": {},
   "outputs": [],
   "source": [
    "med_img, header = load(\"datasets/Task02_Heart/imagesTr/la_003.nii.gz\")\n",
    "\n",
    "nib_img = nib.load(\"datasets/Task02_Heart/imagesTr/la_003.nii.gz\")\n",
    "nib_array = np.array(nib_img.dataobj)\n",
    "\n",
    "itk_img = sitk.ReadImage(\"datasets/Task02_Heart/imagesTr/la_003.nii.gz\") \n",
    "itk_array = sitk.GetArrayFromImage(itk_img)"
   ]
  },
  {
   "cell_type": "code",
   "execution_count": 12,
   "metadata": {},
   "outputs": [
    {
     "name": "stdout",
     "output_type": "stream",
     "text": [
      "<class 'numpy.ndarray'> 128 53248000\n",
      "<class 'nibabel.nifti1.Nifti1Image'> 6984\n",
      "<class 'numpy.ndarray'> 53248128 53248000\n",
      "<class 'SimpleITK.SimpleITK.Image'> 288\n",
      "<class 'numpy.ndarray'> 53248128 53248000\n"
     ]
    }
   ],
   "source": [
    "print(type(med_img), asizeof.asizeof(med_img), med_img.nbytes)\n",
    "print(type(nib_img), asizeof.asizeof(nib_img))\n",
    "print(type(nib_array), asizeof.asizeof(nib_array), nib_array.nbytes)\n",
    "print(type(itk_img), asizeof.asizeof(itk_img))\n",
    "print(type(itk_array), asizeof.asizeof(itk_array),itk_array.nbytes)"
   ]
  },
  {
   "cell_type": "code",
   "execution_count": 16,
   "metadata": {},
   "outputs": [
    {
     "name": "stdout",
     "output_type": "stream",
     "text": [
      "(320, 320, 130)\n",
      "(320, 320, 130)\n",
      "(130, 320, 320)\n"
     ]
    }
   ],
   "source": [
    "print(med_img.shape)\n",
    "print(nib_array.shape)\n",
    "itk_array = itk_array.transpose(2, 1, 0)\n",
    "print(itk_array.shape)"
   ]
  },
  {
   "cell_type": "code",
   "execution_count": null,
   "metadata": {},
   "outputs": [],
   "source": [
    "#med == nib\n",
    "bool_array = (med_img == nib_array)\n",
    "for i in bool_array:\n",
    "    for j in i:\n",
    "        for k in j:\n",
    "            if k != True:\n",
    "                raise ValueError\n",
    "\n",
    "#itk == nib\n",
    "bool_array = (itk_array == nib_array)\n",
    "for i in bool_array:\n",
    "    for j in i:\n",
    "        for k in j:\n",
    "            if k != True:\n",
    "                raise ValueError"
   ]
  },
  {
   "cell_type": "code",
   "execution_count": null,
   "metadata": {
    "scrolled": true
   },
   "outputs": [],
   "source": [
    "#plt.imshow(med_img[ :, :, 2], cmap = cm.Greys_r)\n",
    "#plt.show()\n",
    "#plt.imshow(nib_array[:, :, 2], cmap = cm.Greys_r)\n",
    "#plt.show()\n",
    "#plt.imshow(itk_array[ :, :, 2], cmap = cm.Greys_r)\n",
    "#plt.show()"
   ]
  },
  {
   "cell_type": "code",
   "execution_count": null,
   "metadata": {},
   "outputs": [],
   "source": [
    "#append vs extend\n",
    "a = []\n",
    "slice_set = np.zeros((1,2,3,4))\n",
    "slice_set2 = np.zeros ((2,2,3,4))\n",
    "\n",
    "a.append(slice_set)\n",
    "a.append(slice_set2)\n",
    "print(a[0].shape, a[1].shape, len(a))\n",
    "print(np.array(a).shape,'\\n')\n",
    "\n",
    "a = []\n",
    "slice_set = np.zeros((1,2,3,4))\n",
    "slice_set2 = np.zeros ((2,2,3,4))\n",
    "\n",
    "a.extend(slice_set)\n",
    "a.extend(slice_set2)\n",
    "print(a[0].shape, a[1].shape, len(a))\n",
    "print(np.array(a).shape)"
   ]
  },
  {
   "cell_type": "code",
   "execution_count": 20,
   "metadata": {},
   "outputs": [
    {
     "data": {
      "image/png": "[encoded data removed]",
      "text/plain": [
       "<Figure size 432x288 with 1 Axes>"
      ]
     },
     "metadata": {
      "needs_background": "light"
     },
     "output_type": "display_data"
    },
    {
     "data": {
      "text/plain": [
       "<matplotlib.image.AxesImage at 0x7fa8f73adfd0>"
      ]
     },
     "execution_count": 20,
     "metadata": {},
     "output_type": "execute_result"
    },
    {
     "data": {
      "image/png": "[encoded data removed]",
      "text/plain": [
       "<Figure size 432x288 with 1 Axes>"
      ]
     },
     "metadata": {
      "needs_background": "light"
     },
     "output_type": "display_data"
    }
   ],
   "source": [
    "x = np.load(\"datasets/Task02_Heart/imagesTr/extracted_cubes/x/la_003.nii.gz_100_64x64x32.npy\")\n",
    "y = np.load(\"datasets/Task02_Heart/imagesTr/extracted_cubes/y/la_003.nii.gz_100_64x64x32_target.npy\")\n",
    "plt.imshow(x[0, 32, :, :], cmap = cm.Greys_r)\n",
    "plt.show()\n",
    "plt.imshow(y[0, 32, :, :], cmap = cm.Greys_r)"
   ]
  },
  {
   "cell_type": "code",
   "execution_count": null,
   "metadata": {},
   "outputs": [],
   "source": [
    "type(s) == np.ndarray"
   ]
  },
  {
   "cell_type": "code",
   "execution_count": 21,
   "metadata": {},
   "outputs": [
    {
     "name": "stdout",
     "output_type": "stream",
     "text": [
      "(100, 64, 64, 32) (100, 64, 64, 32)\n"
     ]
    }
   ],
   "source": [
    "print(y.shape, np.repeat(y,1,axis=1).shape)\n"
   ]
  },
  {
   "cell_type": "code",
   "execution_count": null,
   "metadata": {},
   "outputs": [],
   "source": []
  },
  {
   "cell_type": "code",
   "execution_count": null,
   "metadata": {},
   "outputs": [],
   "source": []
  }
 ],
 "metadata": {
  "kernelspec": {
   "display_name": "Python 3",
   "language": "python",
   "name": "python3"
  },
  "language_info": {
   "codemirror_mode": {
    "name": "ipython",
    "version": 3
   },
   "file_extension": ".py",
   "mimetype": "text/x-python",
   "name": "python",
   "nbconvert_exporter": "python",
   "pygments_lexer": "ipython3",
   "version": "3.7.6"
  }
 },
 "nbformat": 4,
 "nbformat_minor": 4
}
